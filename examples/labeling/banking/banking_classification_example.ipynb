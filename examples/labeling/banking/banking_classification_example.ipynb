{
 "cells": [
  {
   "cell_type": "code",
   "execution_count": 2,
   "id": "6a479f4c50643ed9",
   "metadata": {
    "collapsed": false,
    "ExecuteTime": {
     "end_time": "2023-12-22T15:51:56.905917Z",
     "start_time": "2023-12-22T15:51:56.898654Z"
    }
   },
   "outputs": [],
   "source": [
    "import nest_asyncio\n",
    "\n",
    "nest_asyncio.apply()"
   ]
  },
  {
   "cell_type": "code",
   "execution_count": 3,
   "id": "1a04a10678406ab2",
   "metadata": {
    "collapsed": false,
    "ExecuteTime": {
     "end_time": "2023-12-22T15:52:02.762015Z",
     "start_time": "2023-12-22T15:51:57.755133Z"
    }
   },
   "outputs": [],
   "source": [
    "from langroid.agent.chat_agent import ChatAgentConfig\n",
    "from langroid.language_models.openai_gpt import OpenAIChatModel, OpenAIGPTConfig\n",
    "from banking_classification import BankingTextClassifier"
   ]
  },
  {
   "cell_type": "code",
   "execution_count": 4,
   "id": "ccda0d790d72674c",
   "metadata": {
    "collapsed": false,
    "ExecuteTime": {
     "end_time": "2023-12-22T15:52:02.765286Z",
     "start_time": "2023-12-22T15:52:02.764394Z"
    }
   },
   "outputs": [],
   "source": [
    "chat_agent_config = ChatAgentConfig(\n",
    "    llm = OpenAIGPTConfig(\n",
    "        chat_model = OpenAIChatModel.GPT4,\n",
    "    ),\n",
    "    vecdb = None,\n",
    ")"
   ]
  },
  {
   "cell_type": "code",
   "execution_count": 5,
   "outputs": [],
   "source": [
    "# Uncomment only to download dataset and prepare seed and test files"
   ],
   "metadata": {
    "collapsed": false,
    "ExecuteTime": {
     "end_time": "2023-12-22T15:52:02.773869Z",
     "start_time": "2023-12-22T15:52:02.764652Z"
    }
   },
   "id": "75d9de3ebb05b423"
  },
  {
   "cell_type": "code",
   "execution_count": 6,
   "id": "4d1bf8422afcf08e",
   "metadata": {
    "collapsed": false,
    "ExecuteTime": {
     "end_time": "2023-12-22T15:52:02.784961Z",
     "start_time": "2023-12-22T15:52:02.774396Z"
    }
   },
   "outputs": [],
   "source": [
    "# Download and save banking text classifier into seed and test files\n",
    "# from datasets import load_dataset\n",
    "# \n",
    "# dataset = load_dataset(\"banking77\")"
   ]
  },
  {
   "cell_type": "code",
   "execution_count": 7,
   "id": "3993710592aa17cf",
   "metadata": {
    "collapsed": false,
    "ExecuteTime": {
     "end_time": "2023-12-22T15:52:02.799150Z",
     "start_time": "2023-12-22T15:52:02.787291Z"
    }
   },
   "outputs": [],
   "source": [
    "base_prompt = \"\"\"\n",
    "You are an expert at understanding bank customers support complaints and queries.\n",
    "Your job is to correctly classify the provided input example into one of the following categories.\n",
    "You will answer with just the the correct output label and nothing else.\n",
    "Categories:\n",
    "    activate_my_card,\n",
    "   age_limit,\n",
    "   apple_pay_or_google_pay,\n",
    "   atm_support,\n",
    "   automatic_top_up,\n",
    "   balance_not_updated_after_bank_transfer,\n",
    "   balance_not_updated_after_cheque_or_cash_deposit,\n",
    "   beneficiary_not_allowed,\n",
    "   cancel_transfer,\n",
    "   card_about_to_expire,\n",
    "   card_acceptance,\n",
    "   card_arrival,\n",
    "   card_delivery_estimate,\n",
    "   card_linking,\n",
    "   card_not_working,\n",
    "   card_payment_fee_charged,\n",
    "   card_payment_not_recognised,\n",
    "   card_payment_wrong_exchange_rate,\n",
    "   card_swallowed,\n",
    "   cash_withdrawal_charge,\n",
    "   cash_withdrawal_not_recognised,\n",
    "   change_pin,\n",
    "   compromised_card,\n",
    "   contactless_not_working,\n",
    "   country_support,\n",
    "   declined_card_payment,\n",
    "   declined_cash_withdrawal,\n",
    "   declined_transfer,\n",
    "   direct_debit_payment_not_recognised,\n",
    "   disposable_card_limits,\n",
    "   edit_personal_details,\n",
    "   exchange_charge,\n",
    "   exchange_rate,\n",
    "   exchange_via_app,\n",
    "   extra_charge_on_statement,\n",
    "   failed_transfer,\n",
    "   fiat_currency_support,\n",
    "   get_disposable_virtual_card,\n",
    "   get_physical_card,\n",
    "   getting_spare_card,\n",
    "   getting_virtual_card,\n",
    "   lost_or_stolen_card,\n",
    "   lost_or_stolen_phone,\n",
    "   order_physical_card,\n",
    "   passcode_forgotten,\n",
    "   pending_card_payment,\n",
    "   pending_cash_withdrawal,\n",
    "   pending_top_up,\n",
    "   pending_transfer,\n",
    "   pin_blocked,\n",
    "   receiving_money,\n",
    "   Refund_not_showing_up,\n",
    "   request_refund,\n",
    "   reverted_card_payment?,\n",
    "   supported_cards_and_currencies,\n",
    "   terminate_account,\n",
    "   top_up_by_bank_transfer_charge,\n",
    "   top_up_by_card_charge,\n",
    "   top_up_by_cash_or_cheque,\n",
    "   top_up_failed,\n",
    "   top_up_limits,\n",
    "   top_up_reverted,\n",
    "   topping_up_by_card,\n",
    "   transaction_charged_twice,\n",
    "   transfer_fee_charged,\n",
    "   transfer_into_account,\n",
    "   transfer_not_received_by_recipient,\n",
    "   transfer_timing,\n",
    "   unable_to_verify_identity,\n",
    "   verify_my_identity,\n",
    "   verify_source_of_funds,\n",
    "   verify_top_up,\n",
    "   virtual_card_not_working,\n",
    "   visa_or_mastercard,\n",
    "   why_verify_identity,\n",
    "   wrong_amount_of_cash_received,\n",
    "   wrong_exchange_rate_for_cash_withdrawal\n",
    "\n",
    "\"\"\""
   ]
  },
  {
   "cell_type": "code",
   "execution_count": 8,
   "id": "115e7ea528a59bf5",
   "metadata": {
    "collapsed": false,
    "ExecuteTime": {
     "end_time": "2023-12-22T15:52:02.799312Z",
     "start_time": "2023-12-22T15:52:02.789818Z"
    }
   },
   "outputs": [],
   "source": [
    "# import pandas as pd\n",
    "# \n",
    "# train_df = pd.DataFrame(dataset['train'])\n",
    "# test_df = pd.DataFrame(dataset['test'])"
   ]
  },
  {
   "cell_type": "code",
   "execution_count": 9,
   "id": "538e3963d110b1d0",
   "metadata": {
    "collapsed": false,
    "ExecuteTime": {
     "end_time": "2023-12-22T15:52:02.799444Z",
     "start_time": "2023-12-22T15:52:02.794477Z"
    }
   },
   "outputs": [],
   "source": [
    "labels = ['activate_my_card',\n",
    "   'age_limit',\n",
    "   'apple_pay_or_google_pay',\n",
    "   'atm_support',\n",
    "   'automatic_top_up',\n",
    "   'balance_not_updated_after_bank_transfer',\n",
    "   'balance_not_updated_after_cheque_or_cash_deposit',\n",
    "   'beneficiary_not_allowed',\n",
    "   'cancel_transfer',\n",
    "   'card_about_to_expire',\n",
    "   'card_acceptance',\n",
    "   'card_arrival',\n",
    "   'card_delivery_estimate',\n",
    "   'card_linking',\n",
    "   'card_not_working',\n",
    "   'card_payment_fee_charged',\n",
    "   'card_payment_not_recognised',\n",
    "   'card_payment_wrong_exchange_rate',\n",
    "   'card_swallowed',\n",
    "   'cash_withdrawal_charge',\n",
    "   'cash_withdrawal_not_recognised',\n",
    "   'change_pin',\n",
    "   'compromised_card',\n",
    "   'contactless_not_working',\n",
    "   'country_support',\n",
    "   'declined_card_payment',\n",
    "   'declined_cash_withdrawal',\n",
    "   'declined_transfer',\n",
    "   'direct_debit_payment_not_recognised',\n",
    "   'disposable_card_limits',\n",
    "   'edit_personal_details',\n",
    "   'exchange_charge',\n",
    "   'exchange_rate',\n",
    "   'exchange_via_app',\n",
    "   'extra_charge_on_statement',\n",
    "   'failed_transfer',\n",
    "   'fiat_currency_support',\n",
    "   'get_disposable_virtual_card',\n",
    "   'get_physical_card',\n",
    "   'getting_spare_card',\n",
    "   'getting_virtual_card',\n",
    "   'lost_or_stolen_card',\n",
    "   'lost_or_stolen_phone',\n",
    "   'order_physical_card',\n",
    "   'passcode_forgotten',\n",
    "   'pending_card_payment',\n",
    "   'pending_cash_withdrawal',\n",
    "   'pending_top_up',\n",
    "   'pending_transfer',\n",
    "   'pin_blocked',\n",
    "   'receiving_money',\n",
    "   'Refund_not_showing_up',\n",
    "   'request_refund',\n",
    "   'reverted_card_payment?',\n",
    "   'supported_cards_and_currencies',\n",
    "   'terminate_account',\n",
    "   'top_up_by_bank_transfer_charge',\n",
    "   'top_up_by_card_charge',\n",
    "   'top_up_by_cash_or_cheque',\n",
    "   'top_up_failed',\n",
    "   'top_up_limits',\n",
    "   'top_up_reverted',\n",
    "   'topping_up_by_card',\n",
    "   'transaction_charged_twice',\n",
    "   'transfer_fee_charged',\n",
    "   'transfer_into_account',\n",
    "   'transfer_not_received_by_recipient',\n",
    "   'transfer_timing',\n",
    "   'unable_to_verify_identity',\n",
    "   'verify_my_identity',\n",
    "   'verify_source_of_funds',\n",
    "   'verify_top_up',\n",
    "   'virtual_card_not_working',\n",
    "   'visa_or_mastercard',\n",
    "   'why_verify_identity',\n",
    "   'wrong_amount_of_cash_received',\n",
    "   'wrong_exchange_rate_for_cash_withdrawal']"
   ]
  },
  {
   "cell_type": "code",
   "execution_count": 10,
   "id": "2ec3217c2a8d6e82",
   "metadata": {
    "collapsed": false,
    "ExecuteTime": {
     "end_time": "2023-12-22T15:52:02.799497Z",
     "start_time": "2023-12-22T15:52:02.796649Z"
    }
   },
   "outputs": [],
   "source": [
    "# for idx, row in train_df.iterrows():\n",
    "#    label_id = row['label']\n",
    "#    train_df.at[idx, 'label'] = labels[label_id]\n",
    "# for idx, row in test_df.iterrows():\n",
    "#    label_id = row['label']\n",
    "#    test_df.at[idx, 'label'] = labels[label_id]\n",
    "# train_df = train_df.sample(n=200, replace=False)\n",
    "# test_df = test_df.sample(n=2000, replace=False)"
   ]
  },
  {
   "cell_type": "code",
   "execution_count": 11,
   "id": "11faf19582968ae5",
   "metadata": {
    "collapsed": false,
    "ExecuteTime": {
     "end_time": "2023-12-22T15:52:02.800206Z",
     "start_time": "2023-12-22T15:52:02.798773Z"
    }
   },
   "outputs": [],
   "source": [
    "# train_df.to_csv(\"seed.csv\", index=False)\n",
    "# test_df.to_csv(\"test.csv\", index=False)"
   ]
  },
  {
   "cell_type": "code",
   "execution_count": 12,
   "id": "d4ced6dcff9df761",
   "metadata": {
    "collapsed": false,
    "ExecuteTime": {
     "end_time": "2023-12-22T15:52:06.206504Z",
     "start_time": "2023-12-22T15:52:02.803152Z"
    }
   },
   "outputs": [
    {
     "name": "stderr",
     "output_type": "stream",
     "text": [
      "\u001B[33m2023-12-22 21:22:02 - WARNING - REDIS_PASSWORD, REDIS_HOST, REDIS_PORT not set in .env file,\n",
      "                    using fake redis client\u001B[0m\n",
      "\u001B[33m2023-12-22 21:22:02 - WARNING - REDIS_PASSWORD, REDIS_HOST, REDIS_PORT not set in .env file,\n",
      "                    using fake redis client\u001B[0m\n",
      "\u001B[33m2023-12-22 21:22:02 - WARNING - REDIS_PASSWORD, REDIS_HOST, REDIS_PORT not set in .env file,\n",
      "                    using fake redis client\u001B[0m\n",
      "\u001B[33m2023-12-22 21:22:02 - WARNING - REDIS_PASSWORD, REDIS_HOST, REDIS_PORT not set in .env file,\n",
      "                    using fake redis client\u001B[0m\n",
      "\u001B[33m2023-12-22 21:22:03 - WARNING - QDRANT_API_KEY, QDRANT_API_URL env variable must be set to use \n",
      "                QdrantDB in cloud mode. Please set these values \n",
      "                in your .env file. \n",
      "                Switching to local storage at :memory: \n",
      "                \u001B[0m\n",
      "\u001B[33m2023-12-22 21:22:03 - WARNING - QDRANT_API_KEY, QDRANT_API_URL env variable must be set to use \n",
      "                QdrantDB in cloud mode. Please set these values \n",
      "                in your .env file. \n",
      "                Switching to local storage at :memory: \n",
      "                \u001B[0m\n"
     ]
    }
   ],
   "source": [
    "banking_text_classifier = BankingTextClassifier()\n",
    "banking_text_classifier.__int__(\n",
    "    chat_agent_config,\n",
    "    \"seed.csv\",\n",
    "    \"test.csv\",\n",
    "    base_prompt\n",
    ")"
   ]
  },
  {
   "cell_type": "code",
   "execution_count": null,
   "id": "41a504e37d614c4d",
   "metadata": {
    "collapsed": false,
    "is_executing": true,
    "ExecuteTime": {
     "start_time": "2023-12-22T15:52:06.205436Z"
    }
   },
   "outputs": [
    {
     "name": "stderr",
     "output_type": "stream",
     "text": [
      "\u001B[33m2023-12-22 21:22:06 - WARNING - REDIS_PASSWORD, REDIS_HOST, REDIS_PORT not set in .env file,\n",
      "                    using fake redis client\u001B[0m\n",
      "\u001B[33m2023-12-22 21:22:06 - WARNING - REDIS_PASSWORD, REDIS_HOST, REDIS_PORT not set in .env file,\n",
      "                    using fake redis client\u001B[0m\n"
     ]
    },
    {
     "data": {
      "text/plain": "Output()",
      "application/vnd.jupyter.widget-view+json": {
       "version_major": 2,
       "version_minor": 0,
       "model_id": "5d15a7f16d5c4fc3aeeeebefeeb28c21"
      }
     },
     "metadata": {},
     "output_type": "display_data"
    },
    {
     "name": "stdout",
     "output_type": "stream",
     "text": [
      "Processing idx: 166\n"
     ]
    },
    {
     "data": {
      "text/plain": "",
      "text/html": "<pre style=\"white-space:pre;overflow-x:auto;line-height:normal;font-family:Menlo,'DejaVu Sans Mono',consolas,'Courier New',monospace\"></pre>\n"
     },
     "metadata": {},
     "output_type": "display_data"
    },
    {
     "name": "stderr",
     "output_type": "stream",
     "text": [
      "\u001B[33m2023-12-22 21:22:06 - WARNING - No chunked docs; cannot use bm25-similarity\u001B[0m\n",
      "\u001B[33m2023-12-22 21:22:06 - WARNING - No chunked docs; cannot use bm25-similarity\u001B[0m\n"
     ]
    },
    {
     "data": {
      "text/plain": "",
      "text/html": "<pre style=\"white-space:pre;overflow-x:auto;line-height:normal;font-family:Menlo,'DejaVu Sans Mono',consolas,'Courier New',monospace\"></pre>\n"
     },
     "metadata": {},
     "output_type": "display_data"
    },
    {
     "name": "stderr",
     "output_type": "stream",
     "text": [
      "\u001B[33m2023-12-22 21:22:06 - WARNING - No chunked docs; cannot use fuzzy matching\u001B[0m\n",
      "\u001B[33m2023-12-22 21:22:06 - WARNING - No chunked docs; cannot use fuzzy matching\u001B[0m\n"
     ]
    },
    {
     "data": {
      "text/plain": "",
      "text/html": "<pre style=\"white-space:pre;overflow-x:auto;line-height:normal;font-family:Menlo,'DejaVu Sans Mono',consolas,'Courier New',monospace\"></pre>\n"
     },
     "metadata": {},
     "output_type": "display_data"
    },
    {
     "data": {
      "text/plain": "",
      "text/html": "<pre style=\"white-space:pre;overflow-x:auto;line-height:normal;font-family:Menlo,'DejaVu Sans Mono',consolas,'Courier New',monospace\"></pre>\n"
     },
     "metadata": {},
     "output_type": "display_data"
    },
    {
     "name": "stdout",
     "output_type": "stream",
     "text": [
      "\u001B[32m\u001B[32mre\u001B[32mceiving\u001B[32m_money"
     ]
    },
    {
     "data": {
      "text/plain": "\n",
      "text/html": "<pre style=\"white-space:pre;overflow-x:auto;line-height:normal;font-family:Menlo,'DejaVu Sans Mono',consolas,'Courier New',monospace\">\n</pre>\n"
     },
     "metadata": {},
     "output_type": "display_data"
    },
    {
     "data": {
      "text/plain": "\u001B[1mStats:\u001B[0m \u001B[35m \u001B[0m\u001B[35mN_MSG\u001B[0m\u001B[35m=\u001B[0m\u001B[1;35m2\u001B[0m\u001B[35m, TOKENS: \u001B[0m\u001B[35min\u001B[0m\u001B[35m=\u001B[0m\u001B[1;35m786\u001B[0m\u001B[35m, \u001B[0m\u001B[35mout\u001B[0m\u001B[35m=\u001B[0m\u001B[1;35m3\u001B[0m\u001B[35m, \u001B[0m\u001B[35mmax\u001B[0m\u001B[35m=\u001B[0m\u001B[1;35m1024\u001B[0m\u001B[35m, \u001B[0m\u001B[35mctx\u001B[0m\u001B[35m=\u001B[0m\u001B[1;35m8192\u001B[0m\u001B[35m, COST: \u001B[0m\u001B[35mnow\u001B[0m\u001B[35m=$\u001B[0m\u001B[1;35m0.0238\u001B[0m\u001B[35m, \u001B[0m\u001B[35mcumul\u001B[0m\u001B[35m=$\u001B[0m\u001B[1;35m0.0238\u001B[0m\n",
      "text/html": "<pre style=\"white-space:pre;overflow-x:auto;line-height:normal;font-family:Menlo,'DejaVu Sans Mono',consolas,'Courier New',monospace\"><span style=\"font-weight: bold\">Stats:</span> <span style=\"color: #800080; text-decoration-color: #800080\"> </span><span style=\"color: #800080; text-decoration-color: #800080\">N_MSG</span><span style=\"color: #800080; text-decoration-color: #800080\">=</span><span style=\"color: #800080; text-decoration-color: #800080; font-weight: bold\">2</span><span style=\"color: #800080; text-decoration-color: #800080\">, TOKENS: </span><span style=\"color: #800080; text-decoration-color: #800080\">in</span><span style=\"color: #800080; text-decoration-color: #800080\">=</span><span style=\"color: #800080; text-decoration-color: #800080; font-weight: bold\">786</span><span style=\"color: #800080; text-decoration-color: #800080\">, </span><span style=\"color: #800080; text-decoration-color: #800080\">out</span><span style=\"color: #800080; text-decoration-color: #800080\">=</span><span style=\"color: #800080; text-decoration-color: #800080; font-weight: bold\">3</span><span style=\"color: #800080; text-decoration-color: #800080\">, </span><span style=\"color: #800080; text-decoration-color: #800080\">max</span><span style=\"color: #800080; text-decoration-color: #800080\">=</span><span style=\"color: #800080; text-decoration-color: #800080; font-weight: bold\">1024</span><span style=\"color: #800080; text-decoration-color: #800080\">, </span><span style=\"color: #800080; text-decoration-color: #800080\">ctx</span><span style=\"color: #800080; text-decoration-color: #800080\">=</span><span style=\"color: #800080; text-decoration-color: #800080; font-weight: bold\">8192</span><span style=\"color: #800080; text-decoration-color: #800080\">, COST: </span><span style=\"color: #800080; text-decoration-color: #800080\">now</span><span style=\"color: #800080; text-decoration-color: #800080\">=$</span><span style=\"color: #800080; text-decoration-color: #800080; font-weight: bold\">0.0238</span><span style=\"color: #800080; text-decoration-color: #800080\">, </span><span style=\"color: #800080; text-decoration-color: #800080\">cumul</span><span style=\"color: #800080; text-decoration-color: #800080\">=$</span><span style=\"color: #800080; text-decoration-color: #800080; font-weight: bold\">0.0238</span>\n</pre>\n"
     },
     "metadata": {},
     "output_type": "display_data"
    },
    {
     "data": {
      "text/plain": "Output()",
      "application/vnd.jupyter.widget-view+json": {
       "version_major": 2,
       "version_minor": 0,
       "model_id": "4ef9b505b3f6413098a2ba8419a47862"
      }
     },
     "metadata": {},
     "output_type": "display_data"
    },
    {
     "name": "stdout",
     "output_type": "stream",
     "text": [
      "Processing idx: 167\n"
     ]
    },
    {
     "data": {
      "text/plain": "",
      "text/html": "<pre style=\"white-space:pre;overflow-x:auto;line-height:normal;font-family:Menlo,'DejaVu Sans Mono',consolas,'Courier New',monospace\"></pre>\n"
     },
     "metadata": {},
     "output_type": "display_data"
    },
    {
     "name": "stderr",
     "output_type": "stream",
     "text": [
      "\u001B[33m2023-12-22 21:22:10 - WARNING - No chunked docs; cannot use bm25-similarity\u001B[0m\n",
      "\u001B[33m2023-12-22 21:22:10 - WARNING - No chunked docs; cannot use bm25-similarity\u001B[0m\n"
     ]
    },
    {
     "data": {
      "text/plain": "",
      "text/html": "<pre style=\"white-space:pre;overflow-x:auto;line-height:normal;font-family:Menlo,'DejaVu Sans Mono',consolas,'Courier New',monospace\"></pre>\n"
     },
     "metadata": {},
     "output_type": "display_data"
    },
    {
     "name": "stderr",
     "output_type": "stream",
     "text": [
      "\u001B[33m2023-12-22 21:22:10 - WARNING - No chunked docs; cannot use fuzzy matching\u001B[0m\n",
      "\u001B[33m2023-12-22 21:22:10 - WARNING - No chunked docs; cannot use fuzzy matching\u001B[0m\n"
     ]
    },
    {
     "data": {
      "text/plain": "",
      "text/html": "<pre style=\"white-space:pre;overflow-x:auto;line-height:normal;font-family:Menlo,'DejaVu Sans Mono',consolas,'Courier New',monospace\"></pre>\n"
     },
     "metadata": {},
     "output_type": "display_data"
    },
    {
     "data": {
      "text/plain": "",
      "text/html": "<pre style=\"white-space:pre;overflow-x:auto;line-height:normal;font-family:Menlo,'DejaVu Sans Mono',consolas,'Courier New',monospace\"></pre>\n"
     },
     "metadata": {},
     "output_type": "display_data"
    },
    {
     "name": "stdout",
     "output_type": "stream",
     "text": [
      "\u001B[32m\u001B[32mpending\u001B[32m_transfer"
     ]
    },
    {
     "data": {
      "text/plain": "\n",
      "text/html": "<pre style=\"white-space:pre;overflow-x:auto;line-height:normal;font-family:Menlo,'DejaVu Sans Mono',consolas,'Courier New',monospace\">\n</pre>\n"
     },
     "metadata": {},
     "output_type": "display_data"
    },
    {
     "data": {
      "text/plain": "\u001B[1mStats:\u001B[0m \u001B[35m \u001B[0m\u001B[35mN_MSG\u001B[0m\u001B[35m=\u001B[0m\u001B[1;35m2\u001B[0m\u001B[35m, TOKENS: \u001B[0m\u001B[35min\u001B[0m\u001B[35m=\u001B[0m\u001B[1;35m973\u001B[0m\u001B[35m, \u001B[0m\u001B[35mout\u001B[0m\u001B[35m=\u001B[0m\u001B[1;35m2\u001B[0m\u001B[35m, \u001B[0m\u001B[35mmax\u001B[0m\u001B[35m=\u001B[0m\u001B[1;35m1024\u001B[0m\u001B[35m, \u001B[0m\u001B[35mctx\u001B[0m\u001B[35m=\u001B[0m\u001B[1;35m8192\u001B[0m\u001B[35m, COST: \u001B[0m\u001B[35mnow\u001B[0m\u001B[35m=$\u001B[0m\u001B[1;35m0.0293\u001B[0m\u001B[35m, \u001B[0m\u001B[35mcumul\u001B[0m\u001B[35m=$\u001B[0m\u001B[1;35m0.0531\u001B[0m\n",
      "text/html": "<pre style=\"white-space:pre;overflow-x:auto;line-height:normal;font-family:Menlo,'DejaVu Sans Mono',consolas,'Courier New',monospace\"><span style=\"font-weight: bold\">Stats:</span> <span style=\"color: #800080; text-decoration-color: #800080\"> </span><span style=\"color: #800080; text-decoration-color: #800080\">N_MSG</span><span style=\"color: #800080; text-decoration-color: #800080\">=</span><span style=\"color: #800080; text-decoration-color: #800080; font-weight: bold\">2</span><span style=\"color: #800080; text-decoration-color: #800080\">, TOKENS: </span><span style=\"color: #800080; text-decoration-color: #800080\">in</span><span style=\"color: #800080; text-decoration-color: #800080\">=</span><span style=\"color: #800080; text-decoration-color: #800080; font-weight: bold\">973</span><span style=\"color: #800080; text-decoration-color: #800080\">, </span><span style=\"color: #800080; text-decoration-color: #800080\">out</span><span style=\"color: #800080; text-decoration-color: #800080\">=</span><span style=\"color: #800080; text-decoration-color: #800080; font-weight: bold\">2</span><span style=\"color: #800080; text-decoration-color: #800080\">, </span><span style=\"color: #800080; text-decoration-color: #800080\">max</span><span style=\"color: #800080; text-decoration-color: #800080\">=</span><span style=\"color: #800080; text-decoration-color: #800080; font-weight: bold\">1024</span><span style=\"color: #800080; text-decoration-color: #800080\">, </span><span style=\"color: #800080; text-decoration-color: #800080\">ctx</span><span style=\"color: #800080; text-decoration-color: #800080\">=</span><span style=\"color: #800080; text-decoration-color: #800080; font-weight: bold\">8192</span><span style=\"color: #800080; text-decoration-color: #800080\">, COST: </span><span style=\"color: #800080; text-decoration-color: #800080\">now</span><span style=\"color: #800080; text-decoration-color: #800080\">=$</span><span style=\"color: #800080; text-decoration-color: #800080; font-weight: bold\">0.0293</span><span style=\"color: #800080; text-decoration-color: #800080\">, </span><span style=\"color: #800080; text-decoration-color: #800080\">cumul</span><span style=\"color: #800080; text-decoration-color: #800080\">=$</span><span style=\"color: #800080; text-decoration-color: #800080; font-weight: bold\">0.0531</span>\n</pre>\n"
     },
     "metadata": {},
     "output_type": "display_data"
    },
    {
     "data": {
      "text/plain": "Output()",
      "application/vnd.jupyter.widget-view+json": {
       "version_major": 2,
       "version_minor": 0,
       "model_id": "edd0b712208b4c8b854cc30ad307e83d"
      }
     },
     "metadata": {},
     "output_type": "display_data"
    },
    {
     "name": "stdout",
     "output_type": "stream",
     "text": [
      "Processing idx: 168\n"
     ]
    },
    {
     "data": {
      "text/plain": "",
      "text/html": "<pre style=\"white-space:pre;overflow-x:auto;line-height:normal;font-family:Menlo,'DejaVu Sans Mono',consolas,'Courier New',monospace\"></pre>\n"
     },
     "metadata": {},
     "output_type": "display_data"
    },
    {
     "name": "stderr",
     "output_type": "stream",
     "text": [
      "\u001B[33m2023-12-22 21:22:12 - WARNING - No chunked docs; cannot use bm25-similarity\u001B[0m\n",
      "\u001B[33m2023-12-22 21:22:12 - WARNING - No chunked docs; cannot use bm25-similarity\u001B[0m\n"
     ]
    },
    {
     "data": {
      "text/plain": "",
      "text/html": "<pre style=\"white-space:pre;overflow-x:auto;line-height:normal;font-family:Menlo,'DejaVu Sans Mono',consolas,'Courier New',monospace\"></pre>\n"
     },
     "metadata": {},
     "output_type": "display_data"
    },
    {
     "name": "stderr",
     "output_type": "stream",
     "text": [
      "\u001B[33m2023-12-22 21:22:12 - WARNING - No chunked docs; cannot use fuzzy matching\u001B[0m\n",
      "\u001B[33m2023-12-22 21:22:12 - WARNING - No chunked docs; cannot use fuzzy matching\u001B[0m\n"
     ]
    },
    {
     "data": {
      "text/plain": "",
      "text/html": "<pre style=\"white-space:pre;overflow-x:auto;line-height:normal;font-family:Menlo,'DejaVu Sans Mono',consolas,'Courier New',monospace\"></pre>\n"
     },
     "metadata": {},
     "output_type": "display_data"
    },
    {
     "data": {
      "text/plain": "",
      "text/html": "<pre style=\"white-space:pre;overflow-x:auto;line-height:normal;font-family:Menlo,'DejaVu Sans Mono',consolas,'Courier New',monospace\"></pre>\n"
     },
     "metadata": {},
     "output_type": "display_data"
    },
    {
     "name": "stdout",
     "output_type": "stream",
     "text": [
      "\u001B[32m\u001B[32mpending\u001B[32m_cash\u001B[32m_with\u001B[32mdraw\u001B[32mal"
     ]
    },
    {
     "data": {
      "text/plain": "\n",
      "text/html": "<pre style=\"white-space:pre;overflow-x:auto;line-height:normal;font-family:Menlo,'DejaVu Sans Mono',consolas,'Courier New',monospace\">\n</pre>\n"
     },
     "metadata": {},
     "output_type": "display_data"
    },
    {
     "data": {
      "text/plain": "\u001B[1mStats:\u001B[0m \u001B[35m \u001B[0m\u001B[35mN_MSG\u001B[0m\u001B[35m=\u001B[0m\u001B[1;35m2\u001B[0m\u001B[35m, TOKENS: \u001B[0m\u001B[35min\u001B[0m\u001B[35m=\u001B[0m\u001B[1;35m850\u001B[0m\u001B[35m, \u001B[0m\u001B[35mout\u001B[0m\u001B[35m=\u001B[0m\u001B[1;35m5\u001B[0m\u001B[35m, \u001B[0m\u001B[35mmax\u001B[0m\u001B[35m=\u001B[0m\u001B[1;35m1024\u001B[0m\u001B[35m, \u001B[0m\u001B[35mctx\u001B[0m\u001B[35m=\u001B[0m\u001B[1;35m8192\u001B[0m\u001B[35m, COST: \u001B[0m\u001B[35mnow\u001B[0m\u001B[35m=$\u001B[0m\u001B[1;35m0.0258\u001B[0m\u001B[35m, \u001B[0m\u001B[35mcumul\u001B[0m\u001B[35m=$\u001B[0m\u001B[1;35m0.0789\u001B[0m\n",
      "text/html": "<pre style=\"white-space:pre;overflow-x:auto;line-height:normal;font-family:Menlo,'DejaVu Sans Mono',consolas,'Courier New',monospace\"><span style=\"font-weight: bold\">Stats:</span> <span style=\"color: #800080; text-decoration-color: #800080\"> </span><span style=\"color: #800080; text-decoration-color: #800080\">N_MSG</span><span style=\"color: #800080; text-decoration-color: #800080\">=</span><span style=\"color: #800080; text-decoration-color: #800080; font-weight: bold\">2</span><span style=\"color: #800080; text-decoration-color: #800080\">, TOKENS: </span><span style=\"color: #800080; text-decoration-color: #800080\">in</span><span style=\"color: #800080; text-decoration-color: #800080\">=</span><span style=\"color: #800080; text-decoration-color: #800080; font-weight: bold\">850</span><span style=\"color: #800080; text-decoration-color: #800080\">, </span><span style=\"color: #800080; text-decoration-color: #800080\">out</span><span style=\"color: #800080; text-decoration-color: #800080\">=</span><span style=\"color: #800080; text-decoration-color: #800080; font-weight: bold\">5</span><span style=\"color: #800080; text-decoration-color: #800080\">, </span><span style=\"color: #800080; text-decoration-color: #800080\">max</span><span style=\"color: #800080; text-decoration-color: #800080\">=</span><span style=\"color: #800080; text-decoration-color: #800080; font-weight: bold\">1024</span><span style=\"color: #800080; text-decoration-color: #800080\">, </span><span style=\"color: #800080; text-decoration-color: #800080\">ctx</span><span style=\"color: #800080; text-decoration-color: #800080\">=</span><span style=\"color: #800080; text-decoration-color: #800080; font-weight: bold\">8192</span><span style=\"color: #800080; text-decoration-color: #800080\">, COST: </span><span style=\"color: #800080; text-decoration-color: #800080\">now</span><span style=\"color: #800080; text-decoration-color: #800080\">=$</span><span style=\"color: #800080; text-decoration-color: #800080; font-weight: bold\">0.0258</span><span style=\"color: #800080; text-decoration-color: #800080\">, </span><span style=\"color: #800080; text-decoration-color: #800080\">cumul</span><span style=\"color: #800080; text-decoration-color: #800080\">=$</span><span style=\"color: #800080; text-decoration-color: #800080; font-weight: bold\">0.0789</span>\n</pre>\n"
     },
     "metadata": {},
     "output_type": "display_data"
    },
    {
     "data": {
      "text/plain": "Output()",
      "application/vnd.jupyter.widget-view+json": {
       "version_major": 2,
       "version_minor": 0,
       "model_id": "0c35688b075643f7a3cfec21c35cc4df"
      }
     },
     "metadata": {},
     "output_type": "display_data"
    },
    {
     "name": "stdout",
     "output_type": "stream",
     "text": [
      "Processing idx: 169\n"
     ]
    },
    {
     "data": {
      "text/plain": "",
      "text/html": "<pre style=\"white-space:pre;overflow-x:auto;line-height:normal;font-family:Menlo,'DejaVu Sans Mono',consolas,'Courier New',monospace\"></pre>\n"
     },
     "metadata": {},
     "output_type": "display_data"
    },
    {
     "name": "stderr",
     "output_type": "stream",
     "text": [
      "\u001B[33m2023-12-22 21:22:14 - WARNING - No chunked docs; cannot use bm25-similarity\u001B[0m\n",
      "\u001B[33m2023-12-22 21:22:14 - WARNING - No chunked docs; cannot use bm25-similarity\u001B[0m\n"
     ]
    },
    {
     "data": {
      "text/plain": "",
      "text/html": "<pre style=\"white-space:pre;overflow-x:auto;line-height:normal;font-family:Menlo,'DejaVu Sans Mono',consolas,'Courier New',monospace\"></pre>\n"
     },
     "metadata": {},
     "output_type": "display_data"
    },
    {
     "name": "stderr",
     "output_type": "stream",
     "text": [
      "\u001B[33m2023-12-22 21:22:14 - WARNING - No chunked docs; cannot use fuzzy matching\u001B[0m\n",
      "\u001B[33m2023-12-22 21:22:14 - WARNING - No chunked docs; cannot use fuzzy matching\u001B[0m\n"
     ]
    },
    {
     "data": {
      "text/plain": "",
      "text/html": "<pre style=\"white-space:pre;overflow-x:auto;line-height:normal;font-family:Menlo,'DejaVu Sans Mono',consolas,'Courier New',monospace\"></pre>\n"
     },
     "metadata": {},
     "output_type": "display_data"
    },
    {
     "data": {
      "text/plain": "",
      "text/html": "<pre style=\"white-space:pre;overflow-x:auto;line-height:normal;font-family:Menlo,'DejaVu Sans Mono',consolas,'Courier New',monospace\"></pre>\n"
     },
     "metadata": {},
     "output_type": "display_data"
    },
    {
     "name": "stdout",
     "output_type": "stream",
     "text": [
      "\u001B[32m\u001B[32mpending\u001B[32m_transfer"
     ]
    },
    {
     "data": {
      "text/plain": "\n",
      "text/html": "<pre style=\"white-space:pre;overflow-x:auto;line-height:normal;font-family:Menlo,'DejaVu Sans Mono',consolas,'Courier New',monospace\">\n</pre>\n"
     },
     "metadata": {},
     "output_type": "display_data"
    },
    {
     "data": {
      "text/plain": "\u001B[1mStats:\u001B[0m \u001B[35m \u001B[0m\u001B[35mN_MSG\u001B[0m\u001B[35m=\u001B[0m\u001B[1;35m2\u001B[0m\u001B[35m, TOKENS: \u001B[0m\u001B[35min\u001B[0m\u001B[35m=\u001B[0m\u001B[1;35m946\u001B[0m\u001B[35m, \u001B[0m\u001B[35mout\u001B[0m\u001B[35m=\u001B[0m\u001B[1;35m2\u001B[0m\u001B[35m, \u001B[0m\u001B[35mmax\u001B[0m\u001B[35m=\u001B[0m\u001B[1;35m1024\u001B[0m\u001B[35m, \u001B[0m\u001B[35mctx\u001B[0m\u001B[35m=\u001B[0m\u001B[1;35m8192\u001B[0m\u001B[35m, COST: \u001B[0m\u001B[35mnow\u001B[0m\u001B[35m=$\u001B[0m\u001B[1;35m0.0285\u001B[0m\u001B[35m, \u001B[0m\u001B[35mcumul\u001B[0m\u001B[35m=$\u001B[0m\u001B[1;35m0.1074\u001B[0m\n",
      "text/html": "<pre style=\"white-space:pre;overflow-x:auto;line-height:normal;font-family:Menlo,'DejaVu Sans Mono',consolas,'Courier New',monospace\"><span style=\"font-weight: bold\">Stats:</span> <span style=\"color: #800080; text-decoration-color: #800080\"> </span><span style=\"color: #800080; text-decoration-color: #800080\">N_MSG</span><span style=\"color: #800080; text-decoration-color: #800080\">=</span><span style=\"color: #800080; text-decoration-color: #800080; font-weight: bold\">2</span><span style=\"color: #800080; text-decoration-color: #800080\">, TOKENS: </span><span style=\"color: #800080; text-decoration-color: #800080\">in</span><span style=\"color: #800080; text-decoration-color: #800080\">=</span><span style=\"color: #800080; text-decoration-color: #800080; font-weight: bold\">946</span><span style=\"color: #800080; text-decoration-color: #800080\">, </span><span style=\"color: #800080; text-decoration-color: #800080\">out</span><span style=\"color: #800080; text-decoration-color: #800080\">=</span><span style=\"color: #800080; text-decoration-color: #800080; font-weight: bold\">2</span><span style=\"color: #800080; text-decoration-color: #800080\">, </span><span style=\"color: #800080; text-decoration-color: #800080\">max</span><span style=\"color: #800080; text-decoration-color: #800080\">=</span><span style=\"color: #800080; text-decoration-color: #800080; font-weight: bold\">1024</span><span style=\"color: #800080; text-decoration-color: #800080\">, </span><span style=\"color: #800080; text-decoration-color: #800080\">ctx</span><span style=\"color: #800080; text-decoration-color: #800080\">=</span><span style=\"color: #800080; text-decoration-color: #800080; font-weight: bold\">8192</span><span style=\"color: #800080; text-decoration-color: #800080\">, COST: </span><span style=\"color: #800080; text-decoration-color: #800080\">now</span><span style=\"color: #800080; text-decoration-color: #800080\">=$</span><span style=\"color: #800080; text-decoration-color: #800080; font-weight: bold\">0.0285</span><span style=\"color: #800080; text-decoration-color: #800080\">, </span><span style=\"color: #800080; text-decoration-color: #800080\">cumul</span><span style=\"color: #800080; text-decoration-color: #800080\">=$</span><span style=\"color: #800080; text-decoration-color: #800080; font-weight: bold\">0.1074</span>\n</pre>\n"
     },
     "metadata": {},
     "output_type": "display_data"
    },
    {
     "data": {
      "text/plain": "Output()",
      "application/vnd.jupyter.widget-view+json": {
       "version_major": 2,
       "version_minor": 0,
       "model_id": "d082d8aa34214795a075120009dceb88"
      }
     },
     "metadata": {},
     "output_type": "display_data"
    },
    {
     "name": "stdout",
     "output_type": "stream",
     "text": [
      "Processing idx: 170\n"
     ]
    },
    {
     "data": {
      "text/plain": "",
      "text/html": "<pre style=\"white-space:pre;overflow-x:auto;line-height:normal;font-family:Menlo,'DejaVu Sans Mono',consolas,'Courier New',monospace\"></pre>\n"
     },
     "metadata": {},
     "output_type": "display_data"
    },
    {
     "name": "stderr",
     "output_type": "stream",
     "text": [
      "\u001B[33m2023-12-22 21:22:16 - WARNING - No chunked docs; cannot use bm25-similarity\u001B[0m\n",
      "\u001B[33m2023-12-22 21:22:16 - WARNING - No chunked docs; cannot use bm25-similarity\u001B[0m\n"
     ]
    },
    {
     "data": {
      "text/plain": "",
      "text/html": "<pre style=\"white-space:pre;overflow-x:auto;line-height:normal;font-family:Menlo,'DejaVu Sans Mono',consolas,'Courier New',monospace\"></pre>\n"
     },
     "metadata": {},
     "output_type": "display_data"
    },
    {
     "name": "stderr",
     "output_type": "stream",
     "text": [
      "\u001B[33m2023-12-22 21:22:16 - WARNING - No chunked docs; cannot use fuzzy matching\u001B[0m\n",
      "\u001B[33m2023-12-22 21:22:16 - WARNING - No chunked docs; cannot use fuzzy matching\u001B[0m\n"
     ]
    },
    {
     "data": {
      "text/plain": "",
      "text/html": "<pre style=\"white-space:pre;overflow-x:auto;line-height:normal;font-family:Menlo,'DejaVu Sans Mono',consolas,'Courier New',monospace\"></pre>\n"
     },
     "metadata": {},
     "output_type": "display_data"
    },
    {
     "data": {
      "text/plain": "",
      "text/html": "<pre style=\"white-space:pre;overflow-x:auto;line-height:normal;font-family:Menlo,'DejaVu Sans Mono',consolas,'Courier New',monospace\"></pre>\n"
     },
     "metadata": {},
     "output_type": "display_data"
    },
    {
     "name": "stdout",
     "output_type": "stream",
     "text": [
      "\u001B[32m\u001B[32mtransfer\u001B[32m_fee\u001B[32m_ch\u001B[32marged"
     ]
    },
    {
     "data": {
      "text/plain": "\n",
      "text/html": "<pre style=\"white-space:pre;overflow-x:auto;line-height:normal;font-family:Menlo,'DejaVu Sans Mono',consolas,'Courier New',monospace\">\n</pre>\n"
     },
     "metadata": {},
     "output_type": "display_data"
    },
    {
     "data": {
      "text/plain": "\u001B[1mStats:\u001B[0m \u001B[35m \u001B[0m\u001B[35mN_MSG\u001B[0m\u001B[35m=\u001B[0m\u001B[1;35m2\u001B[0m\u001B[35m, TOKENS: \u001B[0m\u001B[35min\u001B[0m\u001B[35m=\u001B[0m\u001B[1;35m785\u001B[0m\u001B[35m, \u001B[0m\u001B[35mout\u001B[0m\u001B[35m=\u001B[0m\u001B[1;35m4\u001B[0m\u001B[35m, \u001B[0m\u001B[35mmax\u001B[0m\u001B[35m=\u001B[0m\u001B[1;35m1024\u001B[0m\u001B[35m, \u001B[0m\u001B[35mctx\u001B[0m\u001B[35m=\u001B[0m\u001B[1;35m8192\u001B[0m\u001B[35m, COST: \u001B[0m\u001B[35mnow\u001B[0m\u001B[35m=$\u001B[0m\u001B[1;35m0.0238\u001B[0m\u001B[35m, \u001B[0m\u001B[35mcumul\u001B[0m\u001B[35m=$\u001B[0m\u001B[1;35m0.1312\u001B[0m\n",
      "text/html": "<pre style=\"white-space:pre;overflow-x:auto;line-height:normal;font-family:Menlo,'DejaVu Sans Mono',consolas,'Courier New',monospace\"><span style=\"font-weight: bold\">Stats:</span> <span style=\"color: #800080; text-decoration-color: #800080\"> </span><span style=\"color: #800080; text-decoration-color: #800080\">N_MSG</span><span style=\"color: #800080; text-decoration-color: #800080\">=</span><span style=\"color: #800080; text-decoration-color: #800080; font-weight: bold\">2</span><span style=\"color: #800080; text-decoration-color: #800080\">, TOKENS: </span><span style=\"color: #800080; text-decoration-color: #800080\">in</span><span style=\"color: #800080; text-decoration-color: #800080\">=</span><span style=\"color: #800080; text-decoration-color: #800080; font-weight: bold\">785</span><span style=\"color: #800080; text-decoration-color: #800080\">, </span><span style=\"color: #800080; text-decoration-color: #800080\">out</span><span style=\"color: #800080; text-decoration-color: #800080\">=</span><span style=\"color: #800080; text-decoration-color: #800080; font-weight: bold\">4</span><span style=\"color: #800080; text-decoration-color: #800080\">, </span><span style=\"color: #800080; text-decoration-color: #800080\">max</span><span style=\"color: #800080; text-decoration-color: #800080\">=</span><span style=\"color: #800080; text-decoration-color: #800080; font-weight: bold\">1024</span><span style=\"color: #800080; text-decoration-color: #800080\">, </span><span style=\"color: #800080; text-decoration-color: #800080\">ctx</span><span style=\"color: #800080; text-decoration-color: #800080\">=</span><span style=\"color: #800080; text-decoration-color: #800080; font-weight: bold\">8192</span><span style=\"color: #800080; text-decoration-color: #800080\">, COST: </span><span style=\"color: #800080; text-decoration-color: #800080\">now</span><span style=\"color: #800080; text-decoration-color: #800080\">=$</span><span style=\"color: #800080; text-decoration-color: #800080; font-weight: bold\">0.0238</span><span style=\"color: #800080; text-decoration-color: #800080\">, </span><span style=\"color: #800080; text-decoration-color: #800080\">cumul</span><span style=\"color: #800080; text-decoration-color: #800080\">=$</span><span style=\"color: #800080; text-decoration-color: #800080; font-weight: bold\">0.1312</span>\n</pre>\n"
     },
     "metadata": {},
     "output_type": "display_data"
    },
    {
     "data": {
      "text/plain": "Output()",
      "application/vnd.jupyter.widget-view+json": {
       "version_major": 2,
       "version_minor": 0,
       "model_id": "c2a1bf46258a4da78b7fc6f32c8fdde2"
      }
     },
     "metadata": {},
     "output_type": "display_data"
    },
    {
     "name": "stdout",
     "output_type": "stream",
     "text": [
      "Processing idx: 171\n"
     ]
    },
    {
     "data": {
      "text/plain": "",
      "text/html": "<pre style=\"white-space:pre;overflow-x:auto;line-height:normal;font-family:Menlo,'DejaVu Sans Mono',consolas,'Courier New',monospace\"></pre>\n"
     },
     "metadata": {},
     "output_type": "display_data"
    },
    {
     "name": "stderr",
     "output_type": "stream",
     "text": [
      "\u001B[33m2023-12-22 21:22:19 - WARNING - No chunked docs; cannot use bm25-similarity\u001B[0m\n",
      "\u001B[33m2023-12-22 21:22:19 - WARNING - No chunked docs; cannot use bm25-similarity\u001B[0m\n"
     ]
    },
    {
     "data": {
      "text/plain": "",
      "text/html": "<pre style=\"white-space:pre;overflow-x:auto;line-height:normal;font-family:Menlo,'DejaVu Sans Mono',consolas,'Courier New',monospace\"></pre>\n"
     },
     "metadata": {},
     "output_type": "display_data"
    },
    {
     "name": "stderr",
     "output_type": "stream",
     "text": [
      "\u001B[33m2023-12-22 21:22:19 - WARNING - No chunked docs; cannot use fuzzy matching\u001B[0m\n",
      "\u001B[33m2023-12-22 21:22:19 - WARNING - No chunked docs; cannot use fuzzy matching\u001B[0m\n"
     ]
    },
    {
     "data": {
      "text/plain": "",
      "text/html": "<pre style=\"white-space:pre;overflow-x:auto;line-height:normal;font-family:Menlo,'DejaVu Sans Mono',consolas,'Courier New',monospace\"></pre>\n"
     },
     "metadata": {},
     "output_type": "display_data"
    },
    {
     "data": {
      "text/plain": "",
      "text/html": "<pre style=\"white-space:pre;overflow-x:auto;line-height:normal;font-family:Menlo,'DejaVu Sans Mono',consolas,'Courier New',monospace\"></pre>\n"
     },
     "metadata": {},
     "output_type": "display_data"
    },
    {
     "name": "stdout",
     "output_type": "stream",
     "text": [
      "\u001B[32m\u001B[32mtop\u001B[32m_up\u001B[32m_by\u001B[32m_cash\u001B[32m_or\u001B[32m_che\u001B[32mque"
     ]
    },
    {
     "data": {
      "text/plain": "\n",
      "text/html": "<pre style=\"white-space:pre;overflow-x:auto;line-height:normal;font-family:Menlo,'DejaVu Sans Mono',consolas,'Courier New',monospace\">\n</pre>\n"
     },
     "metadata": {},
     "output_type": "display_data"
    },
    {
     "data": {
      "text/plain": "\u001B[1mStats:\u001B[0m \u001B[35m \u001B[0m\u001B[35mN_MSG\u001B[0m\u001B[35m=\u001B[0m\u001B[1;35m2\u001B[0m\u001B[35m, TOKENS: \u001B[0m\u001B[35min\u001B[0m\u001B[35m=\u001B[0m\u001B[1;35m823\u001B[0m\u001B[35m, \u001B[0m\u001B[35mout\u001B[0m\u001B[35m=\u001B[0m\u001B[1;35m7\u001B[0m\u001B[35m, \u001B[0m\u001B[35mmax\u001B[0m\u001B[35m=\u001B[0m\u001B[1;35m1024\u001B[0m\u001B[35m, \u001B[0m\u001B[35mctx\u001B[0m\u001B[35m=\u001B[0m\u001B[1;35m8192\u001B[0m\u001B[35m, COST: \u001B[0m\u001B[35mnow\u001B[0m\u001B[35m=$\u001B[0m\u001B[1;35m0.0251\u001B[0m\u001B[35m, \u001B[0m\u001B[35mcumul\u001B[0m\u001B[35m=$\u001B[0m\u001B[1;35m0.1563\u001B[0m\n",
      "text/html": "<pre style=\"white-space:pre;overflow-x:auto;line-height:normal;font-family:Menlo,'DejaVu Sans Mono',consolas,'Courier New',monospace\"><span style=\"font-weight: bold\">Stats:</span> <span style=\"color: #800080; text-decoration-color: #800080\"> </span><span style=\"color: #800080; text-decoration-color: #800080\">N_MSG</span><span style=\"color: #800080; text-decoration-color: #800080\">=</span><span style=\"color: #800080; text-decoration-color: #800080; font-weight: bold\">2</span><span style=\"color: #800080; text-decoration-color: #800080\">, TOKENS: </span><span style=\"color: #800080; text-decoration-color: #800080\">in</span><span style=\"color: #800080; text-decoration-color: #800080\">=</span><span style=\"color: #800080; text-decoration-color: #800080; font-weight: bold\">823</span><span style=\"color: #800080; text-decoration-color: #800080\">, </span><span style=\"color: #800080; text-decoration-color: #800080\">out</span><span style=\"color: #800080; text-decoration-color: #800080\">=</span><span style=\"color: #800080; text-decoration-color: #800080; font-weight: bold\">7</span><span style=\"color: #800080; text-decoration-color: #800080\">, </span><span style=\"color: #800080; text-decoration-color: #800080\">max</span><span style=\"color: #800080; text-decoration-color: #800080\">=</span><span style=\"color: #800080; text-decoration-color: #800080; font-weight: bold\">1024</span><span style=\"color: #800080; text-decoration-color: #800080\">, </span><span style=\"color: #800080; text-decoration-color: #800080\">ctx</span><span style=\"color: #800080; text-decoration-color: #800080\">=</span><span style=\"color: #800080; text-decoration-color: #800080; font-weight: bold\">8192</span><span style=\"color: #800080; text-decoration-color: #800080\">, COST: </span><span style=\"color: #800080; text-decoration-color: #800080\">now</span><span style=\"color: #800080; text-decoration-color: #800080\">=$</span><span style=\"color: #800080; text-decoration-color: #800080; font-weight: bold\">0.0251</span><span style=\"color: #800080; text-decoration-color: #800080\">, </span><span style=\"color: #800080; text-decoration-color: #800080\">cumul</span><span style=\"color: #800080; text-decoration-color: #800080\">=$</span><span style=\"color: #800080; text-decoration-color: #800080; font-weight: bold\">0.1563</span>\n</pre>\n"
     },
     "metadata": {},
     "output_type": "display_data"
    },
    {
     "data": {
      "text/plain": "Output()",
      "application/vnd.jupyter.widget-view+json": {
       "version_major": 2,
       "version_minor": 0,
       "model_id": "43906ae93a664083b839840282413ea0"
      }
     },
     "metadata": {},
     "output_type": "display_data"
    },
    {
     "name": "stdout",
     "output_type": "stream",
     "text": [
      "Processing idx: 172\n"
     ]
    },
    {
     "data": {
      "text/plain": "",
      "text/html": "<pre style=\"white-space:pre;overflow-x:auto;line-height:normal;font-family:Menlo,'DejaVu Sans Mono',consolas,'Courier New',monospace\"></pre>\n"
     },
     "metadata": {},
     "output_type": "display_data"
    },
    {
     "name": "stderr",
     "output_type": "stream",
     "text": [
      "\u001B[33m2023-12-22 21:22:22 - WARNING - No chunked docs; cannot use bm25-similarity\u001B[0m\n",
      "\u001B[33m2023-12-22 21:22:22 - WARNING - No chunked docs; cannot use bm25-similarity\u001B[0m\n"
     ]
    },
    {
     "data": {
      "text/plain": "",
      "text/html": "<pre style=\"white-space:pre;overflow-x:auto;line-height:normal;font-family:Menlo,'DejaVu Sans Mono',consolas,'Courier New',monospace\"></pre>\n"
     },
     "metadata": {},
     "output_type": "display_data"
    },
    {
     "name": "stderr",
     "output_type": "stream",
     "text": [
      "\u001B[33m2023-12-22 21:22:22 - WARNING - No chunked docs; cannot use fuzzy matching\u001B[0m\n",
      "\u001B[33m2023-12-22 21:22:22 - WARNING - No chunked docs; cannot use fuzzy matching\u001B[0m\n"
     ]
    },
    {
     "data": {
      "text/plain": "",
      "text/html": "<pre style=\"white-space:pre;overflow-x:auto;line-height:normal;font-family:Menlo,'DejaVu Sans Mono',consolas,'Courier New',monospace\"></pre>\n"
     },
     "metadata": {},
     "output_type": "display_data"
    },
    {
     "data": {
      "text/plain": "",
      "text/html": "<pre style=\"white-space:pre;overflow-x:auto;line-height:normal;font-family:Menlo,'DejaVu Sans Mono',consolas,'Courier New',monospace\"></pre>\n"
     },
     "metadata": {},
     "output_type": "display_data"
    },
    {
     "name": "stdout",
     "output_type": "stream",
     "text": [
      "\u001B[32m\u001B[32munable\u001B[32m_to\u001B[32m_verify\u001B[32m_identity"
     ]
    },
    {
     "data": {
      "text/plain": "\n",
      "text/html": "<pre style=\"white-space:pre;overflow-x:auto;line-height:normal;font-family:Menlo,'DejaVu Sans Mono',consolas,'Courier New',monospace\">\n</pre>\n"
     },
     "metadata": {},
     "output_type": "display_data"
    },
    {
     "data": {
      "text/plain": "\u001B[1mStats:\u001B[0m \u001B[35m \u001B[0m\u001B[35mN_MSG\u001B[0m\u001B[35m=\u001B[0m\u001B[1;35m2\u001B[0m\u001B[35m, TOKENS: \u001B[0m\u001B[35min\u001B[0m\u001B[35m=\u001B[0m\u001B[1;35m745\u001B[0m\u001B[35m, \u001B[0m\u001B[35mout\u001B[0m\u001B[35m=\u001B[0m\u001B[1;35m4\u001B[0m\u001B[35m, \u001B[0m\u001B[35mmax\u001B[0m\u001B[35m=\u001B[0m\u001B[1;35m1024\u001B[0m\u001B[35m, \u001B[0m\u001B[35mctx\u001B[0m\u001B[35m=\u001B[0m\u001B[1;35m8192\u001B[0m\u001B[35m, COST: \u001B[0m\u001B[35mnow\u001B[0m\u001B[35m=$\u001B[0m\u001B[1;35m0.0226\u001B[0m\u001B[35m, \u001B[0m\u001B[35mcumul\u001B[0m\u001B[35m=$\u001B[0m\u001B[1;35m0.1789\u001B[0m\n",
      "text/html": "<pre style=\"white-space:pre;overflow-x:auto;line-height:normal;font-family:Menlo,'DejaVu Sans Mono',consolas,'Courier New',monospace\"><span style=\"font-weight: bold\">Stats:</span> <span style=\"color: #800080; text-decoration-color: #800080\"> </span><span style=\"color: #800080; text-decoration-color: #800080\">N_MSG</span><span style=\"color: #800080; text-decoration-color: #800080\">=</span><span style=\"color: #800080; text-decoration-color: #800080; font-weight: bold\">2</span><span style=\"color: #800080; text-decoration-color: #800080\">, TOKENS: </span><span style=\"color: #800080; text-decoration-color: #800080\">in</span><span style=\"color: #800080; text-decoration-color: #800080\">=</span><span style=\"color: #800080; text-decoration-color: #800080; font-weight: bold\">745</span><span style=\"color: #800080; text-decoration-color: #800080\">, </span><span style=\"color: #800080; text-decoration-color: #800080\">out</span><span style=\"color: #800080; text-decoration-color: #800080\">=</span><span style=\"color: #800080; text-decoration-color: #800080; font-weight: bold\">4</span><span style=\"color: #800080; text-decoration-color: #800080\">, </span><span style=\"color: #800080; text-decoration-color: #800080\">max</span><span style=\"color: #800080; text-decoration-color: #800080\">=</span><span style=\"color: #800080; text-decoration-color: #800080; font-weight: bold\">1024</span><span style=\"color: #800080; text-decoration-color: #800080\">, </span><span style=\"color: #800080; text-decoration-color: #800080\">ctx</span><span style=\"color: #800080; text-decoration-color: #800080\">=</span><span style=\"color: #800080; text-decoration-color: #800080; font-weight: bold\">8192</span><span style=\"color: #800080; text-decoration-color: #800080\">, COST: </span><span style=\"color: #800080; text-decoration-color: #800080\">now</span><span style=\"color: #800080; text-decoration-color: #800080\">=$</span><span style=\"color: #800080; text-decoration-color: #800080; font-weight: bold\">0.0226</span><span style=\"color: #800080; text-decoration-color: #800080\">, </span><span style=\"color: #800080; text-decoration-color: #800080\">cumul</span><span style=\"color: #800080; text-decoration-color: #800080\">=$</span><span style=\"color: #800080; text-decoration-color: #800080; font-weight: bold\">0.1789</span>\n</pre>\n"
     },
     "metadata": {},
     "output_type": "display_data"
    },
    {
     "data": {
      "text/plain": "Output()",
      "application/vnd.jupyter.widget-view+json": {
       "version_major": 2,
       "version_minor": 0,
       "model_id": "0603c40a4cda4ed587deb04e5dd6313f"
      }
     },
     "metadata": {},
     "output_type": "display_data"
    },
    {
     "name": "stdout",
     "output_type": "stream",
     "text": [
      "Processing idx: 173\n"
     ]
    },
    {
     "data": {
      "text/plain": "",
      "text/html": "<pre style=\"white-space:pre;overflow-x:auto;line-height:normal;font-family:Menlo,'DejaVu Sans Mono',consolas,'Courier New',monospace\"></pre>\n"
     },
     "metadata": {},
     "output_type": "display_data"
    },
    {
     "name": "stderr",
     "output_type": "stream",
     "text": [
      "\u001B[33m2023-12-22 21:22:25 - WARNING - No chunked docs; cannot use bm25-similarity\u001B[0m\n",
      "\u001B[33m2023-12-22 21:22:25 - WARNING - No chunked docs; cannot use bm25-similarity\u001B[0m\n"
     ]
    },
    {
     "data": {
      "text/plain": "",
      "text/html": "<pre style=\"white-space:pre;overflow-x:auto;line-height:normal;font-family:Menlo,'DejaVu Sans Mono',consolas,'Courier New',monospace\"></pre>\n"
     },
     "metadata": {},
     "output_type": "display_data"
    },
    {
     "name": "stderr",
     "output_type": "stream",
     "text": [
      "\u001B[33m2023-12-22 21:22:25 - WARNING - No chunked docs; cannot use fuzzy matching\u001B[0m\n",
      "\u001B[33m2023-12-22 21:22:25 - WARNING - No chunked docs; cannot use fuzzy matching\u001B[0m\n"
     ]
    },
    {
     "data": {
      "text/plain": "",
      "text/html": "<pre style=\"white-space:pre;overflow-x:auto;line-height:normal;font-family:Menlo,'DejaVu Sans Mono',consolas,'Courier New',monospace\"></pre>\n"
     },
     "metadata": {},
     "output_type": "display_data"
    },
    {
     "data": {
      "text/plain": "",
      "text/html": "<pre style=\"white-space:pre;overflow-x:auto;line-height:normal;font-family:Menlo,'DejaVu Sans Mono',consolas,'Courier New',monospace\"></pre>\n"
     },
     "metadata": {},
     "output_type": "display_data"
    },
    {
     "name": "stdout",
     "output_type": "stream",
     "text": [
      "\u001B[32m\u001B[32mcash\u001B[32m_with\u001B[32mdraw\u001B[32mal\u001B[32m_charge"
     ]
    },
    {
     "data": {
      "text/plain": "\n",
      "text/html": "<pre style=\"white-space:pre;overflow-x:auto;line-height:normal;font-family:Menlo,'DejaVu Sans Mono',consolas,'Courier New',monospace\">\n</pre>\n"
     },
     "metadata": {},
     "output_type": "display_data"
    },
    {
     "data": {
      "text/plain": "\u001B[1mStats:\u001B[0m \u001B[35m \u001B[0m\u001B[35mN_MSG\u001B[0m\u001B[35m=\u001B[0m\u001B[1;35m2\u001B[0m\u001B[35m, TOKENS: \u001B[0m\u001B[35min\u001B[0m\u001B[35m=\u001B[0m\u001B[1;35m850\u001B[0m\u001B[35m, \u001B[0m\u001B[35mout\u001B[0m\u001B[35m=\u001B[0m\u001B[1;35m5\u001B[0m\u001B[35m, \u001B[0m\u001B[35mmax\u001B[0m\u001B[35m=\u001B[0m\u001B[1;35m1024\u001B[0m\u001B[35m, \u001B[0m\u001B[35mctx\u001B[0m\u001B[35m=\u001B[0m\u001B[1;35m8192\u001B[0m\u001B[35m, COST: \u001B[0m\u001B[35mnow\u001B[0m\u001B[35m=$\u001B[0m\u001B[1;35m0.0258\u001B[0m\u001B[35m, \u001B[0m\u001B[35mcumul\u001B[0m\u001B[35m=$\u001B[0m\u001B[1;35m0.2047\u001B[0m\n",
      "text/html": "<pre style=\"white-space:pre;overflow-x:auto;line-height:normal;font-family:Menlo,'DejaVu Sans Mono',consolas,'Courier New',monospace\"><span style=\"font-weight: bold\">Stats:</span> <span style=\"color: #800080; text-decoration-color: #800080\"> </span><span style=\"color: #800080; text-decoration-color: #800080\">N_MSG</span><span style=\"color: #800080; text-decoration-color: #800080\">=</span><span style=\"color: #800080; text-decoration-color: #800080; font-weight: bold\">2</span><span style=\"color: #800080; text-decoration-color: #800080\">, TOKENS: </span><span style=\"color: #800080; text-decoration-color: #800080\">in</span><span style=\"color: #800080; text-decoration-color: #800080\">=</span><span style=\"color: #800080; text-decoration-color: #800080; font-weight: bold\">850</span><span style=\"color: #800080; text-decoration-color: #800080\">, </span><span style=\"color: #800080; text-decoration-color: #800080\">out</span><span style=\"color: #800080; text-decoration-color: #800080\">=</span><span style=\"color: #800080; text-decoration-color: #800080; font-weight: bold\">5</span><span style=\"color: #800080; text-decoration-color: #800080\">, </span><span style=\"color: #800080; text-decoration-color: #800080\">max</span><span style=\"color: #800080; text-decoration-color: #800080\">=</span><span style=\"color: #800080; text-decoration-color: #800080; font-weight: bold\">1024</span><span style=\"color: #800080; text-decoration-color: #800080\">, </span><span style=\"color: #800080; text-decoration-color: #800080\">ctx</span><span style=\"color: #800080; text-decoration-color: #800080\">=</span><span style=\"color: #800080; text-decoration-color: #800080; font-weight: bold\">8192</span><span style=\"color: #800080; text-decoration-color: #800080\">, COST: </span><span style=\"color: #800080; text-decoration-color: #800080\">now</span><span style=\"color: #800080; text-decoration-color: #800080\">=$</span><span style=\"color: #800080; text-decoration-color: #800080; font-weight: bold\">0.0258</span><span style=\"color: #800080; text-decoration-color: #800080\">, </span><span style=\"color: #800080; text-decoration-color: #800080\">cumul</span><span style=\"color: #800080; text-decoration-color: #800080\">=$</span><span style=\"color: #800080; text-decoration-color: #800080; font-weight: bold\">0.2047</span>\n</pre>\n"
     },
     "metadata": {},
     "output_type": "display_data"
    },
    {
     "name": "stdout",
     "output_type": "stream",
     "text": [
      "Processing idx: 174\n"
     ]
    },
    {
     "data": {
      "text/plain": "Output()",
      "application/vnd.jupyter.widget-view+json": {
       "version_major": 2,
       "version_minor": 0,
       "model_id": "070faa3ec40f41b3b650f756147331e9"
      }
     },
     "metadata": {},
     "output_type": "display_data"
    },
    {
     "data": {
      "text/plain": "",
      "text/html": "<pre style=\"white-space:pre;overflow-x:auto;line-height:normal;font-family:Menlo,'DejaVu Sans Mono',consolas,'Courier New',monospace\"></pre>\n"
     },
     "metadata": {},
     "output_type": "display_data"
    },
    {
     "name": "stderr",
     "output_type": "stream",
     "text": [
      "\u001B[33m2023-12-22 21:22:27 - WARNING - No chunked docs; cannot use bm25-similarity\u001B[0m\n",
      "\u001B[33m2023-12-22 21:22:27 - WARNING - No chunked docs; cannot use bm25-similarity\u001B[0m\n"
     ]
    },
    {
     "data": {
      "text/plain": "",
      "text/html": "<pre style=\"white-space:pre;overflow-x:auto;line-height:normal;font-family:Menlo,'DejaVu Sans Mono',consolas,'Courier New',monospace\"></pre>\n"
     },
     "metadata": {},
     "output_type": "display_data"
    },
    {
     "name": "stderr",
     "output_type": "stream",
     "text": [
      "\u001B[33m2023-12-22 21:22:27 - WARNING - No chunked docs; cannot use fuzzy matching\u001B[0m\n",
      "\u001B[33m2023-12-22 21:22:27 - WARNING - No chunked docs; cannot use fuzzy matching\u001B[0m\n"
     ]
    },
    {
     "data": {
      "text/plain": "",
      "text/html": "<pre style=\"white-space:pre;overflow-x:auto;line-height:normal;font-family:Menlo,'DejaVu Sans Mono',consolas,'Courier New',monospace\"></pre>\n"
     },
     "metadata": {},
     "output_type": "display_data"
    },
    {
     "data": {
      "text/plain": "",
      "text/html": "<pre style=\"white-space:pre;overflow-x:auto;line-height:normal;font-family:Menlo,'DejaVu Sans Mono',consolas,'Courier New',monospace\"></pre>\n"
     },
     "metadata": {},
     "output_type": "display_data"
    },
    {
     "name": "stdout",
     "output_type": "stream",
     "text": [
      "\u001B[32m\u001B[32mat\u001B[32mm\u001B[32m_support"
     ]
    },
    {
     "data": {
      "text/plain": "\n",
      "text/html": "<pre style=\"white-space:pre;overflow-x:auto;line-height:normal;font-family:Menlo,'DejaVu Sans Mono',consolas,'Courier New',monospace\">\n</pre>\n"
     },
     "metadata": {},
     "output_type": "display_data"
    },
    {
     "data": {
      "text/plain": "\u001B[1mStats:\u001B[0m \u001B[35m \u001B[0m\u001B[35mN_MSG\u001B[0m\u001B[35m=\u001B[0m\u001B[1;35m2\u001B[0m\u001B[35m, TOKENS: \u001B[0m\u001B[35min\u001B[0m\u001B[35m=\u001B[0m\u001B[1;35m771\u001B[0m\u001B[35m, \u001B[0m\u001B[35mout\u001B[0m\u001B[35m=\u001B[0m\u001B[1;35m3\u001B[0m\u001B[35m, \u001B[0m\u001B[35mmax\u001B[0m\u001B[35m=\u001B[0m\u001B[1;35m1024\u001B[0m\u001B[35m, \u001B[0m\u001B[35mctx\u001B[0m\u001B[35m=\u001B[0m\u001B[1;35m8192\u001B[0m\u001B[35m, COST: \u001B[0m\u001B[35mnow\u001B[0m\u001B[35m=$\u001B[0m\u001B[1;35m0.0233\u001B[0m\u001B[35m, \u001B[0m\u001B[35mcumul\u001B[0m\u001B[35m=$\u001B[0m\u001B[1;35m0.2280\u001B[0m\n",
      "text/html": "<pre style=\"white-space:pre;overflow-x:auto;line-height:normal;font-family:Menlo,'DejaVu Sans Mono',consolas,'Courier New',monospace\"><span style=\"font-weight: bold\">Stats:</span> <span style=\"color: #800080; text-decoration-color: #800080\"> </span><span style=\"color: #800080; text-decoration-color: #800080\">N_MSG</span><span style=\"color: #800080; text-decoration-color: #800080\">=</span><span style=\"color: #800080; text-decoration-color: #800080; font-weight: bold\">2</span><span style=\"color: #800080; text-decoration-color: #800080\">, TOKENS: </span><span style=\"color: #800080; text-decoration-color: #800080\">in</span><span style=\"color: #800080; text-decoration-color: #800080\">=</span><span style=\"color: #800080; text-decoration-color: #800080; font-weight: bold\">771</span><span style=\"color: #800080; text-decoration-color: #800080\">, </span><span style=\"color: #800080; text-decoration-color: #800080\">out</span><span style=\"color: #800080; text-decoration-color: #800080\">=</span><span style=\"color: #800080; text-decoration-color: #800080; font-weight: bold\">3</span><span style=\"color: #800080; text-decoration-color: #800080\">, </span><span style=\"color: #800080; text-decoration-color: #800080\">max</span><span style=\"color: #800080; text-decoration-color: #800080\">=</span><span style=\"color: #800080; text-decoration-color: #800080; font-weight: bold\">1024</span><span style=\"color: #800080; text-decoration-color: #800080\">, </span><span style=\"color: #800080; text-decoration-color: #800080\">ctx</span><span style=\"color: #800080; text-decoration-color: #800080\">=</span><span style=\"color: #800080; text-decoration-color: #800080; font-weight: bold\">8192</span><span style=\"color: #800080; text-decoration-color: #800080\">, COST: </span><span style=\"color: #800080; text-decoration-color: #800080\">now</span><span style=\"color: #800080; text-decoration-color: #800080\">=$</span><span style=\"color: #800080; text-decoration-color: #800080; font-weight: bold\">0.0233</span><span style=\"color: #800080; text-decoration-color: #800080\">, </span><span style=\"color: #800080; text-decoration-color: #800080\">cumul</span><span style=\"color: #800080; text-decoration-color: #800080\">=$</span><span style=\"color: #800080; text-decoration-color: #800080; font-weight: bold\">0.2280</span>\n</pre>\n"
     },
     "metadata": {},
     "output_type": "display_data"
    },
    {
     "data": {
      "text/plain": "Output()",
      "application/vnd.jupyter.widget-view+json": {
       "version_major": 2,
       "version_minor": 0,
       "model_id": "8c3e532c453f45178c7eaaced414c50b"
      }
     },
     "metadata": {},
     "output_type": "display_data"
    },
    {
     "name": "stdout",
     "output_type": "stream",
     "text": [
      "Processing idx: 175\n"
     ]
    },
    {
     "data": {
      "text/plain": "",
      "text/html": "<pre style=\"white-space:pre;overflow-x:auto;line-height:normal;font-family:Menlo,'DejaVu Sans Mono',consolas,'Courier New',monospace\"></pre>\n"
     },
     "metadata": {},
     "output_type": "display_data"
    },
    {
     "name": "stderr",
     "output_type": "stream",
     "text": [
      "\u001B[33m2023-12-22 21:22:30 - WARNING - No chunked docs; cannot use bm25-similarity\u001B[0m\n",
      "\u001B[33m2023-12-22 21:22:30 - WARNING - No chunked docs; cannot use bm25-similarity\u001B[0m\n"
     ]
    },
    {
     "data": {
      "text/plain": "",
      "text/html": "<pre style=\"white-space:pre;overflow-x:auto;line-height:normal;font-family:Menlo,'DejaVu Sans Mono',consolas,'Courier New',monospace\"></pre>\n"
     },
     "metadata": {},
     "output_type": "display_data"
    },
    {
     "name": "stderr",
     "output_type": "stream",
     "text": [
      "\u001B[33m2023-12-22 21:22:30 - WARNING - No chunked docs; cannot use fuzzy matching\u001B[0m\n",
      "\u001B[33m2023-12-22 21:22:30 - WARNING - No chunked docs; cannot use fuzzy matching\u001B[0m\n"
     ]
    },
    {
     "data": {
      "text/plain": "",
      "text/html": "<pre style=\"white-space:pre;overflow-x:auto;line-height:normal;font-family:Menlo,'DejaVu Sans Mono',consolas,'Courier New',monospace\"></pre>\n"
     },
     "metadata": {},
     "output_type": "display_data"
    },
    {
     "data": {
      "text/plain": "",
      "text/html": "<pre style=\"white-space:pre;overflow-x:auto;line-height:normal;font-family:Menlo,'DejaVu Sans Mono',consolas,'Courier New',monospace\"></pre>\n"
     },
     "metadata": {},
     "output_type": "display_data"
    },
    {
     "name": "stdout",
     "output_type": "stream",
     "text": [
      "\u001B[32m\u001B[32mre\u001B[32mceiving\u001B[32m_money"
     ]
    },
    {
     "data": {
      "text/plain": "\n",
      "text/html": "<pre style=\"white-space:pre;overflow-x:auto;line-height:normal;font-family:Menlo,'DejaVu Sans Mono',consolas,'Courier New',monospace\">\n</pre>\n"
     },
     "metadata": {},
     "output_type": "display_data"
    },
    {
     "data": {
      "text/plain": "\u001B[1mStats:\u001B[0m \u001B[35m \u001B[0m\u001B[35mN_MSG\u001B[0m\u001B[35m=\u001B[0m\u001B[1;35m2\u001B[0m\u001B[35m, TOKENS: \u001B[0m\u001B[35min\u001B[0m\u001B[35m=\u001B[0m\u001B[1;35m752\u001B[0m\u001B[35m, \u001B[0m\u001B[35mout\u001B[0m\u001B[35m=\u001B[0m\u001B[1;35m3\u001B[0m\u001B[35m, \u001B[0m\u001B[35mmax\u001B[0m\u001B[35m=\u001B[0m\u001B[1;35m1024\u001B[0m\u001B[35m, \u001B[0m\u001B[35mctx\u001B[0m\u001B[35m=\u001B[0m\u001B[1;35m8192\u001B[0m\u001B[35m, COST: \u001B[0m\u001B[35mnow\u001B[0m\u001B[35m=$\u001B[0m\u001B[1;35m0.0227\u001B[0m\u001B[35m, \u001B[0m\u001B[35mcumul\u001B[0m\u001B[35m=$\u001B[0m\u001B[1;35m0.2507\u001B[0m\n",
      "text/html": "<pre style=\"white-space:pre;overflow-x:auto;line-height:normal;font-family:Menlo,'DejaVu Sans Mono',consolas,'Courier New',monospace\"><span style=\"font-weight: bold\">Stats:</span> <span style=\"color: #800080; text-decoration-color: #800080\"> </span><span style=\"color: #800080; text-decoration-color: #800080\">N_MSG</span><span style=\"color: #800080; text-decoration-color: #800080\">=</span><span style=\"color: #800080; text-decoration-color: #800080; font-weight: bold\">2</span><span style=\"color: #800080; text-decoration-color: #800080\">, TOKENS: </span><span style=\"color: #800080; text-decoration-color: #800080\">in</span><span style=\"color: #800080; text-decoration-color: #800080\">=</span><span style=\"color: #800080; text-decoration-color: #800080; font-weight: bold\">752</span><span style=\"color: #800080; text-decoration-color: #800080\">, </span><span style=\"color: #800080; text-decoration-color: #800080\">out</span><span style=\"color: #800080; text-decoration-color: #800080\">=</span><span style=\"color: #800080; text-decoration-color: #800080; font-weight: bold\">3</span><span style=\"color: #800080; text-decoration-color: #800080\">, </span><span style=\"color: #800080; text-decoration-color: #800080\">max</span><span style=\"color: #800080; text-decoration-color: #800080\">=</span><span style=\"color: #800080; text-decoration-color: #800080; font-weight: bold\">1024</span><span style=\"color: #800080; text-decoration-color: #800080\">, </span><span style=\"color: #800080; text-decoration-color: #800080\">ctx</span><span style=\"color: #800080; text-decoration-color: #800080\">=</span><span style=\"color: #800080; text-decoration-color: #800080; font-weight: bold\">8192</span><span style=\"color: #800080; text-decoration-color: #800080\">, COST: </span><span style=\"color: #800080; text-decoration-color: #800080\">now</span><span style=\"color: #800080; text-decoration-color: #800080\">=$</span><span style=\"color: #800080; text-decoration-color: #800080; font-weight: bold\">0.0227</span><span style=\"color: #800080; text-decoration-color: #800080\">, </span><span style=\"color: #800080; text-decoration-color: #800080\">cumul</span><span style=\"color: #800080; text-decoration-color: #800080\">=$</span><span style=\"color: #800080; text-decoration-color: #800080; font-weight: bold\">0.2507</span>\n</pre>\n"
     },
     "metadata": {},
     "output_type": "display_data"
    },
    {
     "name": "stdout",
     "output_type": "stream",
     "text": [
      "Checkpointing llm responses after idx: 175\n",
      "Sleeping for a min...\n"
     ]
    }
   ],
   "source": [
    "banking_text_classifier.run_tweet_emotion_detect()"
   ]
  },
  {
   "cell_type": "code",
   "execution_count": null,
   "id": "1d938b3835671eeb",
   "metadata": {
    "ExecuteTime": {
     "end_time": "2023-12-21T15:44:34.516017Z",
     "start_time": "2023-12-21T15:44:34.514136Z"
    },
    "collapsed": false
   },
   "outputs": [],
   "source": [
    "banking_text_classifier.results"
   ]
  }
 ],
 "metadata": {
  "kernelspec": {
   "display_name": "Python 3 (ipykernel)",
   "language": "python",
   "name": "python3"
  },
  "language_info": {
   "codemirror_mode": {
    "name": "ipython",
    "version": 3
   },
   "file_extension": ".py",
   "mimetype": "text/x-python",
   "name": "python",
   "nbconvert_exporter": "python",
   "pygments_lexer": "ipython3",
   "version": "3.11.5"
  }
 },
 "nbformat": 4,
 "nbformat_minor": 5
}
